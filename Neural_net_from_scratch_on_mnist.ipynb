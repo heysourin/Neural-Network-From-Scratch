{
  "nbformat": 4,
  "nbformat_minor": 0,
  "metadata": {
    "colab": {
      "provenance": [],
      "authorship_tag": "ABX9TyNuHX3d7sirHn4L/2zzr+w/",
      "include_colab_link": true
    },
    "kernelspec": {
      "name": "python3",
      "display_name": "Python 3"
    },
    "language_info": {
      "name": "python"
    }
  },
  "cells": [
    {
      "cell_type": "markdown",
      "metadata": {
        "id": "view-in-github",
        "colab_type": "text"
      },
      "source": [
        "<a href=\"https://colab.research.google.com/github/heysourin/Neural-Network-From-Scratch/blob/main/Neural_net_from_scratch_on_mnist.ipynb\" target=\"_parent\"><img src=\"https://colab.research.google.com/assets/colab-badge.svg\" alt=\"Open In Colab\"/></a>"
      ]
    },
    {
      "cell_type": "markdown",
      "source": [
        "# **Building Neural Network from Scratch**\n",
        "---"
      ],
      "metadata": {
        "id": "SfkKOWw09Lym"
      }
    },
    {
      "cell_type": "markdown",
      "source": [
        "## **Importing necessary libraries:**"
      ],
      "metadata": {
        "id": "H-PYnaaKCd_F"
      }
    },
    {
      "cell_type": "code",
      "source": [
        "import numpy as np\n",
        "import pandas as pd\n",
        "import matplotlib.pyplot as plt\n",
        "import tensorflow as tf"
      ],
      "metadata": {
        "id": "msXUagLVCPh9"
      },
      "execution_count": null,
      "outputs": []
    },
    {
      "cell_type": "markdown",
      "source": [
        "## **Importing MNSINT Dataset:**"
      ],
      "metadata": {
        "id": "cUwZxyZh9Rt3"
      }
    },
    {
      "cell_type": "code",
      "execution_count": null,
      "metadata": {
        "id": "6zbqW1SD8Cee"
      },
      "outputs": [],
      "source": [
        "mnist = tf.keras.datasets.mnist\n",
        "(X_train, y_train), (X_test, y_test) = mnist.load_data()"
      ]
    },
    {
      "cell_type": "markdown",
      "source": [
        "## **Chcking shapes of our taining and test data:**"
      ],
      "metadata": {
        "id": "36JIiuez9aJV"
      }
    },
    {
      "cell_type": "code",
      "source": [
        "X_train.shape, y_train.shape, X_test.shape, y_test.shape"
      ],
      "metadata": {
        "colab": {
          "base_uri": "https://localhost:8080/"
        },
        "id": "tRySWORA8Ze9",
        "outputId": "8f3cee49-b4d8-4a66-d328-ad353869b033"
      },
      "execution_count": null,
      "outputs": [
        {
          "output_type": "execute_result",
          "data": {
            "text/plain": [
              "((60000, 28, 28), (60000,), (10000, 28, 28), (10000,))"
            ]
          },
          "metadata": {},
          "execution_count": 414
        }
      ]
    },
    {
      "cell_type": "markdown",
      "source": [
        "## **How X_train look like?:**"
      ],
      "metadata": {
        "id": "fjR07TQh9j3k"
      }
    },
    {
      "cell_type": "code",
      "source": [
        "X_train"
      ],
      "metadata": {
        "colab": {
          "base_uri": "https://localhost:8080/"
        },
        "id": "f8F3BZmA8h2e",
        "outputId": "9134b6a8-192d-41db-dfe8-40c95e1e9df5"
      },
      "execution_count": null,
      "outputs": [
        {
          "output_type": "execute_result",
          "data": {
            "text/plain": [
              "array([[[0, 0, 0, ..., 0, 0, 0],\n",
              "        [0, 0, 0, ..., 0, 0, 0],\n",
              "        [0, 0, 0, ..., 0, 0, 0],\n",
              "        ...,\n",
              "        [0, 0, 0, ..., 0, 0, 0],\n",
              "        [0, 0, 0, ..., 0, 0, 0],\n",
              "        [0, 0, 0, ..., 0, 0, 0]],\n",
              "\n",
              "       [[0, 0, 0, ..., 0, 0, 0],\n",
              "        [0, 0, 0, ..., 0, 0, 0],\n",
              "        [0, 0, 0, ..., 0, 0, 0],\n",
              "        ...,\n",
              "        [0, 0, 0, ..., 0, 0, 0],\n",
              "        [0, 0, 0, ..., 0, 0, 0],\n",
              "        [0, 0, 0, ..., 0, 0, 0]],\n",
              "\n",
              "       [[0, 0, 0, ..., 0, 0, 0],\n",
              "        [0, 0, 0, ..., 0, 0, 0],\n",
              "        [0, 0, 0, ..., 0, 0, 0],\n",
              "        ...,\n",
              "        [0, 0, 0, ..., 0, 0, 0],\n",
              "        [0, 0, 0, ..., 0, 0, 0],\n",
              "        [0, 0, 0, ..., 0, 0, 0]],\n",
              "\n",
              "       ...,\n",
              "\n",
              "       [[0, 0, 0, ..., 0, 0, 0],\n",
              "        [0, 0, 0, ..., 0, 0, 0],\n",
              "        [0, 0, 0, ..., 0, 0, 0],\n",
              "        ...,\n",
              "        [0, 0, 0, ..., 0, 0, 0],\n",
              "        [0, 0, 0, ..., 0, 0, 0],\n",
              "        [0, 0, 0, ..., 0, 0, 0]],\n",
              "\n",
              "       [[0, 0, 0, ..., 0, 0, 0],\n",
              "        [0, 0, 0, ..., 0, 0, 0],\n",
              "        [0, 0, 0, ..., 0, 0, 0],\n",
              "        ...,\n",
              "        [0, 0, 0, ..., 0, 0, 0],\n",
              "        [0, 0, 0, ..., 0, 0, 0],\n",
              "        [0, 0, 0, ..., 0, 0, 0]],\n",
              "\n",
              "       [[0, 0, 0, ..., 0, 0, 0],\n",
              "        [0, 0, 0, ..., 0, 0, 0],\n",
              "        [0, 0, 0, ..., 0, 0, 0],\n",
              "        ...,\n",
              "        [0, 0, 0, ..., 0, 0, 0],\n",
              "        [0, 0, 0, ..., 0, 0, 0],\n",
              "        [0, 0, 0, ..., 0, 0, 0]]], dtype=uint8)"
            ]
          },
          "metadata": {},
          "execution_count": 415
        }
      ]
    },
    {
      "cell_type": "markdown",
      "source": [
        "---\n",
        "\n",
        "## **How y_train look like?**"
      ],
      "metadata": {
        "id": "OBneiiiC9sFO"
      }
    },
    {
      "cell_type": "code",
      "source": [
        "y_train"
      ],
      "metadata": {
        "colab": {
          "base_uri": "https://localhost:8080/"
        },
        "id": "yYFtAc_x8ecN",
        "outputId": "f61cbd0d-bf85-4835-ae49-24f5008e77a7"
      },
      "execution_count": null,
      "outputs": [
        {
          "output_type": "execute_result",
          "data": {
            "text/plain": [
              "array([5, 0, 4, ..., 5, 6, 8], dtype=uint8)"
            ]
          },
          "metadata": {},
          "execution_count": 416
        }
      ]
    },
    {
      "cell_type": "markdown",
      "source": [
        "## **Visualizing some data of X_train:**\n",
        "  - You can verify them with the outputs of the above shell."
      ],
      "metadata": {
        "id": "oJYrq6fX9w1-"
      }
    },
    {
      "cell_type": "code",
      "source": [
        "# plt.imshow(X_train[0], cmap='gray')\n",
        "# plt.imshow(X_train[1], cmap='gray')\n",
        "plt.imshow(X_train[-3], cmap='gray')\n",
        "\n",
        "plt.show()"
      ],
      "metadata": {
        "colab": {
          "base_uri": "https://localhost:8080/",
          "height": 430
        },
        "id": "qkV6jI4q8qw5",
        "outputId": "c31053d3-f88f-4f80-c23f-f0e1cb12396d"
      },
      "execution_count": null,
      "outputs": [
        {
          "output_type": "display_data",
          "data": {
            "text/plain": [
              "<Figure size 640x480 with 1 Axes>"
            ],
            "image/png": "[encoded data removed]"
          },
          "metadata": {}
        }
      ]
    },
    {
      "cell_type": "markdown",
      "source": [
        "---\n",
        "## **Normalizing:**"
      ],
      "metadata": {
        "id": "AnjiDC6s8ZYg"
      }
    },
    {
      "cell_type": "code",
      "source": [
        "X_train = X_train/255\n",
        "X_test = X_test/255"
      ],
      "metadata": {
        "id": "reP3_Gvj8Yka"
      },
      "execution_count": null,
      "outputs": []
    },
    {
      "cell_type": "code",
      "source": [
        "X_train.shape, X_test.shape"
      ],
      "metadata": {
        "colab": {
          "base_uri": "https://localhost:8080/"
        },
        "id": "ndog483d8wVl",
        "outputId": "20a31871-9d7b-48a5-9918-cc28ef02eb03"
      },
      "execution_count": null,
      "outputs": [
        {
          "output_type": "execute_result",
          "data": {
            "text/plain": [
              "((60000, 28, 28), (10000, 28, 28))"
            ]
          },
          "metadata": {},
          "execution_count": 419
        }
      ]
    },
    {
      "cell_type": "markdown",
      "source": [
        "---\n",
        "## **Flattening the 2D into 1D: 728**"
      ],
      "metadata": {
        "id": "ryFbffsFOEmH"
      }
    },
    {
      "cell_type": "code",
      "source": [
        "X_train_flattened = X_train.reshape(len(X_train), -1)\n",
        "X_test_flattened = X_test.reshape(len(X_test), -1)"
      ],
      "metadata": {
        "id": "Av3ChwX6EANu"
      },
      "execution_count": null,
      "outputs": []
    },
    {
      "cell_type": "code",
      "source": [
        "X_train_flattened.shape"
      ],
      "metadata": {
        "colab": {
          "base_uri": "https://localhost:8080/"
        },
        "id": "Ts0Z6Bk5DAN8",
        "outputId": "5f7a7714-edbf-41a2-dffa-afbf4d5e9006"
      },
      "execution_count": null,
      "outputs": [
        {
          "output_type": "execute_result",
          "data": {
            "text/plain": [
              "(60000, 784)"
            ]
          },
          "metadata": {},
          "execution_count": 421
        }
      ]
    },
    {
      "cell_type": "markdown",
      "source": [
        "---\n",
        "## **Dense Layer:**"
      ],
      "metadata": {
        "id": "zAlxpniPOtPa"
      }
    },
    {
      "cell_type": "code",
      "source": [
        "class Layer_Dense:\n",
        "  def __init__(self, n_inputs, n_neurons):\n",
        "    self.weights = 0.10 * np.random.randn(n_inputs, n_neurons)\n",
        "    self.biases = np.zeros((1, n_neurons))\n",
        "\n",
        "  def forward(self, inputs):\n",
        "    self.output = np.dot(inputs, self.weights) + self.biases"
      ],
      "metadata": {
        "id": "hhSW9Nk39rR8"
      },
      "execution_count": null,
      "outputs": []
    },
    {
      "cell_type": "markdown",
      "source": [
        "---\n",
        "## **Activation function: ReLU**"
      ],
      "metadata": {
        "id": "JkRjmYgOOxCC"
      }
    },
    {
      "cell_type": "code",
      "source": [
        "class Activation_ReLU:\n",
        "  def forward(self, inputs):\n",
        "    self.output = np.maximum(0, inputs)"
      ],
      "metadata": {
        "id": "kfDuXS1K99md"
      },
      "execution_count": null,
      "outputs": []
    },
    {
      "cell_type": "markdown",
      "source": [
        "---\n",
        "## **Activation function: Softmax**"
      ],
      "metadata": {
        "id": "iloWwaibO1yA"
      }
    },
    {
      "cell_type": "code",
      "source": [
        "class Activation_Softmax:\n",
        "  def forward(self, inputs):\n",
        "    exp_values = np.exp(inputs - np.max(inputs, axis=1, keepdims=True))\n",
        "    probabilities = exp_values / np.sum(exp_values, axis=1, keepdims=True)\n",
        "    self.output = probabilities\n",
        "    return self.output"
      ],
      "metadata": {
        "id": "iNJHIKbrK3t2"
      },
      "execution_count": null,
      "outputs": []
    },
    {
      "cell_type": "markdown",
      "source": [
        "---\n",
        "## **Loss function: Sparse Categorical Crossentropy**"
      ],
      "metadata": {
        "id": "vmnKqL3wO4c3"
      }
    },
    {
      "cell_type": "code",
      "source": [
        "class Loss_SparseCategoricalCrossentropy():\n",
        "\n",
        "  def forward(self, y_pred, y_true):\n",
        "    y_true_indices = np.array(y_true) # true labels\n",
        "\n",
        "    # converting true labels to one-hot encoding\n",
        "    num_classes = y_pred.shape[1] # num_classes = 10 in this case. (Softmax layer output, shape = (60000,10))\n",
        "    y_true_one_hot = np.eye(num_classes)[y_true_indices]\n",
        "\n",
        "    y_pred_clipped = np.clip(y_pred, 1e-7, 1 - 1e-7)\n",
        "    loss_per_sample = -np.sum(y_true_one_hot * np.log(y_pred_clipped), axis=1)\n",
        "\n",
        "    return loss_per_sample\n",
        "\n",
        "  def calculate(self, output, y):\n",
        "    sample_losses = self.forward(output, y)\n",
        "    data_loss = np.mean(sample_losses) #batch loss\n",
        "    return data_loss"
      ],
      "metadata": {
        "id": "Lzl8rTiRA6FB"
      },
      "execution_count": null,
      "outputs": []
    },
    {
      "cell_type": "markdown",
      "source": [
        "---\n",
        "## **Adam Optimizer:**"
      ],
      "metadata": {
        "id": "nvBYX4WnO-Av"
      }
    },
    {
      "cell_type": "code",
      "source": [
        "class Optimizer_Adam:\n",
        "  def __init__(self, learning_rate=0.001, beta_1=0.9, beta_2=0.999, epsilon=1e-7):\n",
        "    self.learning_rate = learning_rate\n",
        "    self.beta_1 = beta_1\n",
        "    self.beta_2 = beta_2\n",
        "    self.epsilon = epsilon\n",
        "    self.iterations = 0\n",
        "\n",
        "  def update_params(self, layer):\n",
        "    if not hasattr(layer, 'weight_cache'):\n",
        "      layer.weight_momentums = np.zeros_like(layer.weights)\n",
        "      layer.weight_cache = np.zeros_like(layer.weights)\n",
        "      layer.bias_momentums = np.zeros_like(layer.biases)\n",
        "      layer.bias_cache = np.zeros_like(layer.biases)\n",
        "\n",
        "    self.iterations += 1\n",
        "\n",
        "    # Update momentum with current gradients\n",
        "    layer.weight_momentums = self.beta_1 * layer.weight_momentums + (1 - self.beta_1) * layer.dweights\n",
        "    layer.bias_momentums = self.beta_1 * layer.bias_momentums + (1 - self.beta_1) * layer.dbiases\n",
        "\n",
        "    # Corrected momentum\n",
        "    weight_momentums_corrected = layer.weight_momentums / (1 - self.beta_1 ** self.iterations)\n",
        "    bias_momentums_corrected = layer.bias_momentums / (1 - self.beta_1 ** self.iterations)\n",
        "\n",
        "    # Update cache with squared current gradients\n",
        "    layer.weight_cache = self.beta_2 * layer.weight_cache + (1 - self.beta_2) * layer.dweights ** 2\n",
        "    layer.bias_cache = self.beta_2 * layer.bias_cache + (1 - self.beta_2) * layer.dbiases ** 2\n",
        "\n",
        "    # Corrected cache\n",
        "    weight_cache_corrected = layer.weight_cache / (1 - self.beta_2 ** self.iterations)\n",
        "    bias_cache_corrected = layer.bias_cache / (1 - self.beta_2 ** self.iterations)\n",
        "\n",
        "    # Update weights and biases\n",
        "    layer.weights += -self.learning_rate * weight_momentums_corrected / (np.sqrt(weight_cache_corrected) + self.epsilon)\n",
        "    layer.biases += -self.learning_rate * bias_momentums_corrected / (np.sqrt(bias_cache_corrected) + self.epsilon)"
      ],
      "metadata": {
        "id": "BsXP06yBwXob"
      },
      "execution_count": null,
      "outputs": []
    },
    {
      "cell_type": "markdown",
      "source": [
        "---\n",
        "## **Creating instances of layers:**"
      ],
      "metadata": {
        "id": "bAOI7EPlPDA0"
      }
    },
    {
      "cell_type": "code",
      "source": [
        "layer1 = Layer_Dense(784, 128)\n",
        "activation1 = Activation_ReLU()\n",
        "layer2 = Layer_Dense(128, 32)\n",
        "activation2 = Activation_ReLU()\n",
        "layer3 = Layer_Dense(32, 10)\n",
        "activation3 = Activation_Softmax()"
      ],
      "metadata": {
        "id": "giq9NEoezI6j"
      },
      "execution_count": null,
      "outputs": []
    },
    {
      "cell_type": "markdown",
      "source": [
        "---\n",
        "## **Creating instance of the loss function:**"
      ],
      "metadata": {
        "id": "1JTByxXnPImU"
      }
    },
    {
      "cell_type": "code",
      "source": [
        "loss_function = Loss_SparseCategoricalCrossentropy()\n",
        "optimizer = Optimizer_Adam(learning_rate=0.001)\n"
      ],
      "metadata": {
        "id": "cdgYgpChIs5E"
      },
      "execution_count": null,
      "outputs": []
    },
    {
      "cell_type": "markdown",
      "source": [
        "---\n",
        "## **Training the model:**"
      ],
      "metadata": {
        "id": "0Qb3jAnWPNAS"
      }
    },
    {
      "cell_type": "code",
      "source": [
        "# Training loop\n",
        "epochs = 101\n",
        "Losses = []\n",
        "\n",
        "for epoch in range(epochs):\n",
        "  # Forward pass\n",
        "  layer1.forward(X_train_flattened)\n",
        "  activation1.forward(layer1.output)\n",
        "  layer2.forward(activation1.output)\n",
        "  activation2.forward(layer2.output)\n",
        "  layer3.forward(activation2.output)\n",
        "  activation3.forward(layer3.output)\n",
        "\n",
        "  # Calculating loss\n",
        "  loss = loss_function.calculate(activation3.output, y_train)\n",
        "  #?? loss = Loss_SparseCategoricalCrossentropy(activation3.output, y_train)\n",
        "  Losses.append(loss)\n",
        "\n",
        "  # Backward pass\n",
        "  dinputs = activation3.output\n",
        "  dinputs[range(len(dinputs)), y_train] -= 1\n",
        "  dinputs = dinputs / len(dinputs)\n",
        "\n",
        "  layer3.dweights = np.dot(activation2.output.T, dinputs)\n",
        "  layer3.dbiases = np.sum(dinputs, axis=0, keepdims=True)\n",
        "  dvalues2 = np.dot(dinputs, layer3.weights.T) * (activation2.output > 0)\n",
        "  layer2.dweights = np.dot(activation1.output.T, dvalues2)\n",
        "  layer2.dbiases = np.sum(dvalues2, axis=0, keepdims=True)\n",
        "  dvalues1 = np.dot(dvalues2, layer2.weights.T) * (activation1.output > 0)\n",
        "  layer1.dweights = np.dot(X_train_flattened.T, dvalues1)\n",
        "  layer1.dbiases = np.sum(dvalues1, axis=0, keepdims=True)\n",
        "\n",
        "  # Update weights and biases\n",
        "  optimizer.update_params(layer1)\n",
        "  optimizer.update_params(layer2)\n",
        "  optimizer.update_params(layer3)\n",
        "\n",
        "  if epoch % 10 == 0:\n",
        "    print(f'Epoch {epoch+1}, Loss: {loss}')"
      ],
      "metadata": {
        "colab": {
          "base_uri": "https://localhost:8080/"
        },
        "id": "a2ISG5dQYA2F",
        "outputId": "3e7d23e4-960a-438c-ba1f-7da2194e8087"
      },
      "execution_count": null,
      "outputs": [
        {
          "output_type": "stream",
          "name": "stdout",
          "text": [
            "Epoch 1, Loss: 2.322656583881695\n",
            "Epoch 11, Loss: 1.8618215979918529\n",
            "Epoch 21, Loss: 1.116686399719479\n",
            "Epoch 31, Loss: 0.5693681712536709\n",
            "Epoch 41, Loss: 0.3949613360079816\n",
            "Epoch 51, Loss: 0.3239737039164773\n",
            "Epoch 61, Loss: 0.2834681946621061\n",
            "Epoch 71, Loss: 0.2547879276437522\n",
            "Epoch 81, Loss: 0.23249846386790138\n",
            "Epoch 91, Loss: 0.2142781624349567\n",
            "Epoch 101, Loss: 0.19881839953876287\n"
          ]
        }
      ]
    },
    {
      "cell_type": "markdown",
      "source": [
        "---\n",
        "## **Comparing Loss vs Epochs**"
      ],
      "metadata": {
        "id": "H2v4Y6XNPR59"
      }
    },
    {
      "cell_type": "code",
      "source": [
        "plt.plot(range(epochs), Losses)\n",
        "plt.xlabel('Epoch')\n",
        "plt.ylabel('Training Loss')\n",
        "plt.show()"
      ],
      "metadata": {
        "colab": {
          "base_uri": "https://localhost:8080/",
          "height": 449
        },
        "id": "fnGQBUeRdwZl",
        "outputId": "7f23b472-9023-4fca-9b43-8aa27768964b"
      },
      "execution_count": null,
      "outputs": [
        {
          "output_type": "display_data",
          "data": {
            "text/plain": [
              "<Figure size 640x480 with 1 Axes>"
            ],
            "image/png": "[encoded data removed]"
          },
          "metadata": {}
        }
      ]
    },
    {
      "cell_type": "markdown",
      "source": [
        "---\n",
        "## **Testing accuracy on Test data:**"
      ],
      "metadata": {
        "id": "O0kFwC2rPYCE"
      }
    },
    {
      "cell_type": "code",
      "source": [
        "# Testing the neural network\n",
        "layer1.forward(X_test_flattened)\n",
        "activation1.forward(layer1.output)\n",
        "layer2.forward(activation1.output)\n",
        "activation2.forward(layer2.output)\n",
        "layer3.forward(activation2.output)\n",
        "activation3.forward(layer3.output)\n",
        "\n",
        "predictions = np.argmax(activation3.output, axis=1)\n",
        "accuracy = np.mean(predictions == y_test)\n",
        "\n",
        "print(f'Test Accuracy: {accuracy}')"
      ],
      "metadata": {
        "colab": {
          "base_uri": "https://localhost:8080/"
        },
        "id": "IQsAYVbhDAbs",
        "outputId": "f00b3024-c359-445a-fc83-c9618f85f6c1"
      },
      "execution_count": null,
      "outputs": [
        {
          "output_type": "stream",
          "name": "stdout",
          "text": [
            "Test Accuracy: 0.9411\n"
          ]
        }
      ]
    }
  ]
}